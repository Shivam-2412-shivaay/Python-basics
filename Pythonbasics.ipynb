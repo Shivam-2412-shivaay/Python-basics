{
  "nbformat": 4,
  "nbformat_minor": 0,
  "metadata": {
    "colab": {
      "provenance": []
    },
    "kernelspec": {
      "name": "python3",
      "display_name": "Python 3"
    },
    "language_info": {
      "name": "python"
    }
  },
  "cells": [
    {
      "cell_type": "code",
      "execution_count": null,
      "metadata": {
        "id": "d8mdIfl9-qDQ"
      },
      "outputs": [],
      "source": []
    },
    {
      "cell_type": "markdown",
      "source": [
        "#Python Basics Theory\n",
        "\n",
        "1. What is Python, and why is it popular?\n",
        "- Python is a high-level, interpreted programming language that emphasizes readability and simplicity in its syntax, making it an excellent choice for beginners and experienced developers alike. It supports multiple programming paradigms, including procedural, object-oriented, and functional programming. Python's popularity stems from its versatility, extensive libraries, active community support, and its ability to handle tasks across various domains such as web development, data analysis, artificial intelligence, and more.\n",
        "\n",
        "2. What is an interpreter in Python?\n",
        "- An interpreter in Python is the component of the Python runtime environment that executes Python code. Unlike compiled languages, Python does not require explicit compilation; instead, the interpreter translates Python source code into intermediate bytecode and executes it line by line. This approach allows for interactive execution and debugging.\n",
        "\n",
        "3. What are pre-defined keywords in Python?\n",
        "- Pre-defined keywords in Python are reserved words that have special meanings and purposes within the language. These words define the language's syntax and structure, making them integral to Python programming. Examples include if, else, for, while, try, class, and import. They cannot be used as variable names, function names, or identifiers.\n",
        "\n",
        "4. Can keywords be used as variable names?\n",
        "- No, keywords cannot be used as variable names in Python. Since keywords have predefined meanings and functions, using them as variable names would cause syntax errors and confusion within the program. Python enforces this restriction to maintain clarity and consistency in code.\n",
        "\n",
        "5. What is mutability in Python?\n",
        "- Mutability in Python refers to an object's ability to change its state or contents after it is created. Objects in Python are categorized as mutable or immutable:\n",
        "\n",
        "Mutable objects, like lists and dictionaries, allow modification of their elements without changing the object reference.\n",
        "Immutable objects, like tuples and strings, do not allow modifications after creation; any change results in the creation of a new object.\n",
        "6. Why are lists mutable, but tuples are immutable?\n",
        "- Lists are mutable to provide flexibility in modifying data during runtime, which is useful for dynamic and iterative operations. Tuples, on the other hand, are immutable to ensure stability and integrity, particularly when they are used as keys in dictionaries or for storing data that should not change during execution.\n",
        "\n",
        "7. What is the difference between == and is operators in Python?\n",
        "- The == operator checks if two objects have the same value, irrespective of whether they are stored in the same memory location. The is operator, however, checks for identity by determining if two objects refer to the exact same memory location. While == compares data equality, is compares object identity.\n",
        "\n",
        "8. What are logical operators in Python?\n",
        "- Logical operators in Python are used to perform logical computations and combine multiple conditions. They include:\n",
        "\n",
        "and: Returns True if both conditions are true.\n",
        "or: Returns True if at least one condition is true.\n",
        "not: Returns the negation of the condition, flipping True to False and vice versa.\n",
        "9. What is type casting in Python?\n",
        "- Type casting in Python is the process of converting a variable from one data type to another. This is particularly useful for operations that require inputs of specific types. Python provides built-in functions like int(), float(), str(), and list() for explicit type conversion.\n",
        "\n",
        "10. What is the difference between implicit and explicit type casting?\n",
        "- Implicit Type Casting: Performed automatically by Python when it converts one data type to another during operations. For instance, adding an integer to a float results in a float without explicit intervention.\n",
        "Explicit Type Casting: Requires the programmer to manually convert a variable's type using built-in functions, such as converting a string to an integer with int(\"42\").\n",
        "11. What is the purpose of conditional statements in Python?\n",
        "- Conditional statements in Python control the flow of a program by allowing it to make decisions based on certain conditions. They enable specific blocks of code to execute when the given condition evaluates to True. Examples include the if, elif, and else statements, which form the foundation of decision-making in Python.\n",
        "\n",
        "12. How does the elif statement work?\n",
        "- The elif (short for \"else if\") statement provides additional conditional checks after an initial if condition. If the preceding if condition is False, Python evaluates the elif condition. If it evaluates to True, the corresponding block of code is executed. It allows for multiple branching in decision-making.\n",
        "\n",
        "13. What is the difference between for and while loops?\n",
        "- A for loop is used when the number of iterations is predetermined, such as iterating over a sequence like a list or range.\n",
        "A while loop is used when the number of iterations depends on a condition, continuing execution as long as the condition remains True.\n",
        "14. Describe a scenario where a while loop is more suitable than a for loop.\n",
        "A while loop is more suitable when the number of iterations is not fixed or predetermined. For example, in a program that keeps prompting a user for input until they provide a valid response, a while loop ensures the program continues executing until the desired condition is met.\n",
        "\n",
        "\n",
        "\n",
        "\n",
        "\n",
        "\n"
      ],
      "metadata": {
        "id": "IKNYEBQYBlpr"
      }
    },
    {
      "cell_type": "markdown",
      "source": [],
      "metadata": {
        "id": "eAMDD3cAL1ZL"
      }
    },
    {
      "cell_type": "markdown",
      "source": [
        "#Python basics Practicle\n"
      ],
      "metadata": {
        "id": "tsF79v4FMMWQ"
      }
    },
    {
      "cell_type": "code",
      "source": [
        "print(\"HELLO WORLD\")"
      ],
      "metadata": {
        "colab": {
          "base_uri": "https://localhost:8080/"
        },
        "id": "c6Oq7FmUK85q",
        "outputId": "48da11e0-97eb-40c1-eabf-ce7bd036d99b"
      },
      "execution_count": 1,
      "outputs": [
        {
          "output_type": "stream",
          "name": "stdout",
          "text": [
            "HELLO WORLD\n"
          ]
        }
      ]
    },
    {
      "cell_type": "code",
      "source": [],
      "metadata": {
        "id": "JnK0Rzh4MWjc"
      },
      "execution_count": null,
      "outputs": []
    }
  ]
}